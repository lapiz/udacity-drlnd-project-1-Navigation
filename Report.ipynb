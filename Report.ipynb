{
 "cells": [
  {
   "cell_type": "markdown",
   "id": "banned-grounds",
   "metadata": {},
   "source": [
    "# Report\n",
    "---\n",
    "In this notebook, We see my implementation of the first project of the Deep Reinforcement Learning Nanodegree"
   ]
  },
  {
   "cell_type": "markdown",
   "id": "secondary-notebook",
   "metadata": {},
   "source": [
    "## Implementation Details\n",
    "\n",
    "### Summary\n",
    "I implement a Deep Q-Network. Based on DRLND Project Sample.\n",
    "\n",
    "### Details\n",
    "The Deep Q-Network has following Neural Networks.\n",
    "\n",
    "- First fully connected layer\n",
    "  - inputs (states) -> $N_1$ \n",
    "- Second fully connected layer\n",
    "  - $N_1$ -> $N_2$\n",
    "- Third fully connected layer\n",
    "  - $N_2$ -> outputs (actions)\n",
    "  \n",
    "### Hyperparameters\n",
    "\n",
    "Agent hyperparameters are:\n",
    "\n",
    "|parameter | value | description |\n",
    "|----------|-------|-------------|\n",
    "|buffer_size|100000| Number of experiences to hold in the replay memory |\n",
    "|batch_size|64| Minibatch size used at each step |\n",
    "|gamma | 0.95 | Discount applied to future rewards |\n",
    "|tau | 0.0001 | Scaling parameter applied to spup update |\n",
    "|LR | 0.00005 | Learning rate for Adam optimizer |\n",
    "|update_interval | 4 | Number of agent steps between update oprations |\n",
    "|hidden_layer| (128, 128) | Number of nodes for hidden layer ($N_1$, $N_2$)|\n",
    "\n",
    "Training parameters are:\n",
    "\n",
    "|parameter | value | description |\n",
    "|----------|-------|-------------|\n",
    "|episodes  | 2000 | Maximum number of training episodes |\n",
    "|eps_start, eps_end, eps_decay | 1.0, 0.01, 0.995 | parameters of epslion-greedy policy |\n",
    "| expect | 13 | Expected score to solved | "
   ]
  },
  {
   "cell_type": "markdown",
   "id": "distinct-citizen",
   "metadata": {},
   "source": [
    "## Execution\n"
   ]
  },
  {
   "cell_type": "markdown",
   "id": "killing-stand",
   "metadata": {},
   "source": [
    "### Import and setting env"
   ]
  },
  {
   "cell_type": "code",
   "execution_count": 1,
   "id": "flying-feeding",
   "metadata": {},
   "outputs": [
    {
     "name": "stdout",
     "output_type": "stream",
     "text": [
      "cpu\n"
     ]
    }
   ],
   "source": [
    "#import requirements\n",
    "\n",
    "from unityagents import UnityEnvironment\n",
    "import numpy as np\n",
    "\n",
    "# My helpers\n",
    "from scores import *\n",
    "from dqn_agent import *\n",
    "from model import *"
   ]
  },
  {
   "cell_type": "code",
   "execution_count": 2,
   "id": "southeast-insured",
   "metadata": {},
   "outputs": [
    {
     "name": "stderr",
     "output_type": "stream",
     "text": [
      "INFO:unityagents:\n",
      "'Academy' started successfully!\n",
      "Unity Academy name: Academy\n",
      "        Number of Brains: 1\n",
      "        Number of External Brains : 1\n",
      "        Lesson number : 0\n",
      "        Reset Parameters :\n",
      "\t\t\n",
      "Unity brain name: BananaBrain\n",
      "        Number of Visual Observations (per agent): 0\n",
      "        Vector Observation space type: continuous\n",
      "        Vector Observation space size (per agent): 37\n",
      "        Number of stacked Vector Observation: 1\n",
      "        Vector Action space type: discrete\n",
      "        Vector Action space size (per agent): 4\n",
      "        Vector Action descriptions: , , , \n"
     ]
    }
   ],
   "source": [
    "# for mac\n",
    "env = UnityEnvironment(file_name=\"Banana.app\")\n",
    "\n",
    "# for linux\n",
    "#env = UnityEnvironment(file_name=\"Banana_Linux_NoVis/Banana.x86_64\")\n",
    "\n",
    "# for windows\n",
    "#env = UnityEnvironment(file_name=\"Banana_Windows_x86_64/Banana.exe\")"
   ]
  },
  {
   "cell_type": "code",
   "execution_count": null,
   "id": "variable-relations",
   "metadata": {},
   "outputs": [],
   "source": [
    "# get the default brain\n",
    "brain_name = env.brain_names[0]\n",
    "brain = env.brains[brain_name]\n",
    "\n",
    "# Environement reset\n",
    "env_info = env.reset(train_mode=True)[brain_name]\n",
    "\n",
    "# number of agents in the environment\n",
    "print('Number of agents:', len(env_info.agents))\n",
    "\n",
    "# number of actions\n",
    "action_size = brain.vector_action_space_size\n",
    "print('Number of actions:', action_size)\n",
    "\n",
    "# examine the state space \n",
    "state = env_info.vector_observations[0]\n",
    "print('States look like:', state)\n",
    "state_size = len(state)\n",
    "print('States have length:', state_size)"
   ]
  },
  {
   "cell_type": "markdown",
   "id": "conditional-medication",
   "metadata": {},
   "source": [
    "### Functions for single run or training"
   ]
  },
  {
   "cell_type": "code",
   "execution_count": null,
   "id": "entire-serum",
   "metadata": {},
   "outputs": [],
   "source": [
    "# function to run single episode & Train function\n",
    "\n",
    "def runOnce(env, agent, eps ):\n",
    "    score = 0\n",
    "    env_info = env.reset(train_mode=True)[brain_name]\n",
    "    state = env_info.vector_observations[0]\n",
    "    done = False\n",
    "    while not done:\n",
    "        action = agent.act(state, eps )\n",
    "        env_info = env.step(action)[brain_name]\n",
    "        next_state = env_info.vector_observations[0]\n",
    "        reward = env_info.rewards[0]\n",
    "        done = env_info.local_done[0]\n",
    "        agent.step(state, action, reward, next_state, done)\n",
    "        score += reward\n",
    "        state = next_state\n",
    "    return score\n",
    "\n",
    "def TrainAgent( env, agent, expect, prefix,  episodes=2000, window_size=100, eps_start=1.0, eps_end=0.01, eps_decay=0.995):\n",
    "    scores = Scores(expect, window_size)\n",
    "    success = False\n",
    "    eps = eps_start\n",
    "    for i_episode in range(1, episodes+1):\n",
    "        score = runOnce(env, agent, eps )\n",
    "        eps = max(eps_end, eps_decay*eps)\n",
    "        if scores.AddScore(score) == True:\n",
    "            agent.Save('model.pt')\n",
    "            success = True\n",
    "            break\n",
    "\n",
    "    scores.FlushLog(prefix, True)\n",
    "    return success"
   ]
  },
  {
   "cell_type": "markdown",
   "id": "purple-summer",
   "metadata": {},
   "source": [
    "### Hyperparameters"
   ]
  },
  {
   "cell_type": "code",
   "execution_count": null,
   "id": "recreational-commissioner",
   "metadata": {},
   "outputs": [],
   "source": [
    "# Hyperparameters\n",
    "params = {\n",
    "    'buffer_size': int(1e5),    # replay buffer size\n",
    "    'batch_size': 64,           # minibatch size\n",
    "    'gamma': 0.95,              # discount factor\n",
    "    'tau': 1e-3,                # for soft update of target parameters\n",
    "    'LR': 5e-4,                 # learning rate \n",
    "    'update_interval': 4,       # how often to update the network\n",
    "    'hidden_layer': (128, 128)  # hidden layer info\n",
    "}"
   ]
  },
  {
   "cell_type": "markdown",
   "id": "certified-passport",
   "metadata": {},
   "source": [
    "### Train and result"
   ]
  },
  {
   "cell_type": "code",
   "execution_count": null,
   "id": "conventional-bunny",
   "metadata": {},
   "outputs": [],
   "source": [
    "# Train it!\n",
    "agent = Agent(state_size=state_size, action_size=action_size, seed=0, params = params ) \n",
    "\n",
    "TrainAgent(env, agent, 13, 'banana13')"
   ]
  },
  {
   "cell_type": "markdown",
   "id": "according-granny",
   "metadata": {},
   "source": [
    "### Train for more scores"
   ]
  },
  {
   "cell_type": "code",
   "execution_count": null,
   "id": "trained-burner",
   "metadata": {},
   "outputs": [],
   "source": [
    "# Train for more score\n",
    "\n",
    "\n",
    "agent = Agent(state_size=state_size, action_size=action_size, seed=0, params = params ) \n",
    "\n",
    "TrainAgent(env, agent, 15, 'banana_15')"
   ]
  },
  {
   "cell_type": "markdown",
   "id": "legendary-venue",
   "metadata": {},
   "source": [
    "### Comments\n",
    "My implementation of DQN may be not bad. But when expect score is 13, I  got some worse score case (under 5). \n",
    "\n",
    "I increase score to 15. It task some more epoch, and average score is increase. but still got very low score. I think it caused only state and action based learning. If agent get more information like optional project, I get more good result."
   ]
  },
  {
   "cell_type": "markdown",
   "id": "seven-sport",
   "metadata": {},
   "source": [
    "## Ideas for future work\n",
    "\n",
    "- Implement DQN extensions likes Dueling networks, Prioritized Experience Relay, Raindow DQN or etc.\n",
    "- Change NN Model\n",
    "  - More hidden layers\n",
    "  - More nodes in hidden layers.\n",
    "- Learing from pixel information (Optional project)"
   ]
  }
 ],
 "metadata": {
  "kernelspec": {
   "display_name": "Python 3",
   "language": "python",
   "name": "python3"
  },
  "language_info": {
   "codemirror_mode": {
    "name": "ipython",
    "version": 3
   },
   "file_extension": ".py",
   "mimetype": "text/x-python",
   "name": "python",
   "nbconvert_exporter": "python",
   "pygments_lexer": "ipython3",
   "version": "3.6.12"
  }
 },
 "nbformat": 4,
 "nbformat_minor": 5
}
