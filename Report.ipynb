{
 "cells": [
  {
   "cell_type": "markdown",
   "id": "banned-grounds",
   "metadata": {},
   "source": [
    "# Report\n",
    "---\n",
    "In this notebook, We see my implementation of the first project of the Deep Reinforcement Learning Nanodegree"
   ]
  },
  {
   "cell_type": "markdown",
   "id": "secondary-notebook",
   "metadata": {},
   "source": [
    "## Implementation Details\n",
    "\n",
    "### Summary\n",
    "I implement a Deep Q-Network. Based on DRLND Project Sample.\n",
    "\n",
    "### Details\n",
    "The Deep Q-Network has following Neural Networks.\n",
    "\n",
    "- First fully connected layer\n",
    "  - inputs (states) -> $N_1$ \n",
    "- Second fully connected layer\n",
    "  - $N_1$ -> $N_2$\n",
    "- Third fully connected layer\n",
    "  - $N_2$ -> outputs (actions)\n",
    "  \n",
    "### Hyperparameters\n",
    "\n",
    "Agent hyperparameters are:\n",
    "\n",
    "|parameter | value | description |\n",
    "|----------|-------|-------------|\n",
    "|buffer_size|100000| Number of experiences to hold in the replay memory |\n",
    "|batch_size|64| Minibatch size used at each step |\n",
    "|gamma | 0.95 | Discount applied to future rewards |\n",
    "|tau | 0.0001 | Scaling parameter applied to spup update |\n",
    "|LR | 0.00005 | Learning rate for Adam optimizer |\n",
    "|update_interval | 4 | Number of agent steps between update oprations |\n",
    "|hidden_layer| (128, 128) | Number of nodes for hidden layer ($N_1$, $N_2$)|\n",
    "\n",
    "Training parameters are:\n",
    "\n",
    "|parameter | value | description |\n",
    "|----------|-------|-------------|\n",
    "|episodes  | 2000 | Maximum number of training episodes |\n",
    "|eps_start, eps_end, eps_decay | 1.0, 0.01, 0.995 | parameters of epslion-greedy policy |\n",
    "| expect | 13 | Expected score to solved | "
   ]
  },
  {
   "cell_type": "markdown",
   "id": "distinct-citizen",
   "metadata": {},
   "source": [
    "## Execution\n"
   ]
  },
  {
   "cell_type": "markdown",
   "id": "killing-stand",
   "metadata": {},
   "source": [
    "### Import and setting env"
   ]
  },
  {
   "cell_type": "code",
   "execution_count": 1,
   "id": "flying-feeding",
   "metadata": {},
   "outputs": [
    {
     "name": "stdout",
     "output_type": "stream",
     "text": [
      "cpu\n"
     ]
    }
   ],
   "source": [
    "#import requirements\n",
    "\n",
    "from unityagents import UnityEnvironment\n",
    "import numpy as np\n",
    "\n",
    "# My helpers\n",
    "from scores import *\n",
    "from dqn_agent import *\n",
    "from model import *"
   ]
  },
  {
   "cell_type": "code",
   "execution_count": 2,
   "id": "southeast-insured",
   "metadata": {},
   "outputs": [
    {
     "name": "stderr",
     "output_type": "stream",
     "text": [
      "INFO:unityagents:\n",
      "'Academy' started successfully!\n",
      "Unity Academy name: Academy\n",
      "        Number of Brains: 1\n",
      "        Number of External Brains : 1\n",
      "        Lesson number : 0\n",
      "        Reset Parameters :\n",
      "\t\t\n",
      "Unity brain name: BananaBrain\n",
      "        Number of Visual Observations (per agent): 0\n",
      "        Vector Observation space type: continuous\n",
      "        Vector Observation space size (per agent): 37\n",
      "        Number of stacked Vector Observation: 1\n",
      "        Vector Action space type: discrete\n",
      "        Vector Action space size (per agent): 4\n",
      "        Vector Action descriptions: , , , \n"
     ]
    }
   ],
   "source": [
    "# for mac\n",
    "#env = UnityEnvironment(file_name=\"Banana.app\")\n",
    "\n",
    "# for linux\n",
    "env = UnityEnvironment(file_name=\"Banana_Linux_NoVis/Banana.x86_64\")\n",
    "\n",
    "# for windows\n",
    "#env = UnityEnvironment(file_name=\"Banana_Windows_x86_64/Banana.exe\")"
   ]
  },
  {
   "cell_type": "code",
   "execution_count": 3,
   "id": "variable-relations",
   "metadata": {},
   "outputs": [
    {
     "name": "stdout",
     "output_type": "stream",
     "text": [
      "Number of agents: 1\n",
      "Number of actions: 4\n",
      "States look like: [1.         0.         0.         0.         0.84408134 0.\n",
      " 0.         1.         0.         0.0748472  0.         1.\n",
      " 0.         0.         0.25755    1.         0.         0.\n",
      " 0.         0.74177343 0.         1.         0.         0.\n",
      " 0.25854847 0.         0.         1.         0.         0.09355672\n",
      " 0.         1.         0.         0.         0.31969345 0.\n",
      " 0.        ]\n",
      "States have length: 37\n"
     ]
    }
   ],
   "source": [
    "# get the default brain\n",
    "brain_name = env.brain_names[0]\n",
    "brain = env.brains[brain_name]\n",
    "\n",
    "# Environement reset\n",
    "env_info = env.reset(train_mode=True)[brain_name]\n",
    "\n",
    "# number of agents in the environment\n",
    "print('Number of agents:', len(env_info.agents))\n",
    "\n",
    "# number of actions\n",
    "action_size = brain.vector_action_space_size\n",
    "print('Number of actions:', action_size)\n",
    "\n",
    "# examine the state space \n",
    "state = env_info.vector_observations[0]\n",
    "print('States look like:', state)\n",
    "state_size = len(state)\n",
    "print('States have length:', state_size)"
   ]
  },
  {
   "cell_type": "markdown",
   "id": "conditional-medication",
   "metadata": {},
   "source": [
    "### Functions for single run or training"
   ]
  },
  {
   "cell_type": "code",
   "execution_count": 4,
   "id": "entire-serum",
   "metadata": {},
   "outputs": [],
   "source": [
    "# function to run single episode & Train function\n",
    "\n",
    "def runOnce(env, agent, eps ):\n",
    "    score = 0\n",
    "    env_info = env.reset(train_mode=True)[brain_name]\n",
    "    state = env_info.vector_observations[0]\n",
    "    done = False\n",
    "    while not done:\n",
    "        action = agent.act(state, eps )\n",
    "        env_info = env.step(action)[brain_name]\n",
    "        next_state = env_info.vector_observations[0]\n",
    "        reward = env_info.rewards[0]\n",
    "        done = env_info.local_done[0]\n",
    "        agent.step(state, action, reward, next_state, done)\n",
    "        score += reward\n",
    "        state = next_state\n",
    "    return score\n",
    "\n",
    "def TrainAgent( env, agent, expect, prefix,  episodes=2000, window_size=100, eps_start=1.0, eps_end=0.01, eps_decay=0.995):\n",
    "    scores = Scores(expect, window_size)\n",
    "    success = False\n",
    "    eps = eps_start\n",
    "    for i_episode in range(1, episodes+1):\n",
    "        score = runOnce(env, agent, eps )\n",
    "        eps = max(eps_end, eps_decay*eps)\n",
    "        if scores.AddScore(score) == True:\n",
    "            agent.Save('model.pt')\n",
    "            success = True\n",
    "            break\n",
    "\n",
    "    scores.FlushLog(prefix, True)\n",
    "    return success"
   ]
  },
  {
   "cell_type": "markdown",
   "id": "purple-summer",
   "metadata": {},
   "source": [
    "### Hyperparameters"
   ]
  },
  {
   "cell_type": "code",
   "execution_count": 5,
   "id": "recreational-commissioner",
   "metadata": {},
   "outputs": [],
   "source": [
    "# Hyperparameters\n",
    "params = {\n",
    "    'buffer_size': int(1e5),    # replay buffer size\n",
    "    'batch_size': 64,           # minibatch size\n",
    "    'gamma': 0.95,              # discount factor\n",
    "    'tau': 1e-3,                # for soft update of target parameters\n",
    "    'LR': 5e-4,                 # learning rate \n",
    "    'update_interval': 4,       # how often to update the network\n",
    "    'hidden_layer': (128, 128)  # hidden layer info\n",
    "}"
   ]
  },
  {
   "cell_type": "markdown",
   "id": "certified-passport",
   "metadata": {},
   "source": [
    "### Train and result"
   ]
  },
  {
   "cell_type": "code",
   "execution_count": 6,
   "id": "conventional-bunny",
   "metadata": {},
   "outputs": [
    {
     "name": "stdout",
     "output_type": "stream",
     "text": [
      "[2021-03-07 23:45:25.180350] Episode 100\tAverage Score: 0.61\n",
      "[2021-03-07 23:49:05.550974] Episode 200\tAverage Score: 3.49\n",
      "[2021-03-07 23:52:49.345404] Episode 300\tAverage Score: 6.74\n",
      "[2021-03-07 23:56:27.248126] Episode 400\tAverage Score: 10.25\n",
      "[2021-03-07 23:59:58.779271] Episode 500\tAverage Score: 12.86\n",
      "[2021-03-08 00:00:57.647759] Episode 527\tAverage Score: 13.03\n",
      "[2021-03-08 00:00:57.647880] Environment solved in 427 episodes!\tAverage Score: 13.03\n",
      "\n",
      "Min: -2.0\n",
      "Max: 21.0\n",
      "Count: 527\n",
      "Avg: 7.11954459203036\n",
      "Std: 5.505468850959418\n",
      "Done\n",
      "\n",
      "\n"
     ]
    },
    {
     "data": {
      "image/png": "[encoded data removed]",
      "text/plain": [
       "<Figure size 432x288 with 1 Axes>"
      ]
     },
     "metadata": {
      "needs_background": "light"
     },
     "output_type": "display_data"
    },
    {
     "data": {
      "text/plain": [
       "True"
      ]
     },
     "execution_count": 6,
     "metadata": {},
     "output_type": "execute_result"
    }
   ],
   "source": [
    "# Train it!\n",
    "agent = Agent(state_size=state_size, action_size=action_size, seed=0, params = params ) \n",
    "\n",
    "TrainAgent(env, agent, 13, 'banana13_report')"
   ]
  },
  {
   "cell_type": "markdown",
   "id": "according-granny",
   "metadata": {},
   "source": [
    "### Train for more scores"
   ]
  },
  {
   "cell_type": "code",
   "execution_count": 7,
   "id": "trained-burner",
   "metadata": {},
   "outputs": [
    {
     "name": "stdout",
     "output_type": "stream",
     "text": [
      "[2021-03-08 00:04:35.840453] Episode 100\tAverage Score: 0.73\n",
      "[2021-03-08 00:08:12.004080] Episode 200\tAverage Score: 2.13\n",
      "[2021-03-08 00:11:52.896348] Episode 300\tAverage Score: 6.36\n",
      "[2021-03-08 00:15:41.410539] Episode 400\tAverage Score: 9.87\n",
      "[2021-03-08 00:19:25.760861] Episode 500\tAverage Score: 12.86\n",
      "[2021-03-08 00:23:11.142064] Episode 600\tAverage Score: 13.04\n",
      "[2021-03-08 00:26:58.211240] Episode 700\tAverage Score: 13.37\n",
      "[2021-03-08 00:30:44.331509] Episode 800\tAverage Score: 14.33\n",
      "[2021-03-08 00:34:30.630700] Episode 900\tAverage Score: 13.43\n",
      "[2021-03-08 00:38:17.357691] Episode 1000\tAverage Score: 14.69\n",
      "[2021-03-08 00:41:05.392193] Episode 1076\tAverage Score: 15.07\n",
      "[2021-03-08 00:41:05.392385] Environment solved in 976 episodes!\tAverage Score: 15.07\n",
      "\n",
      "Min: -2.0\n",
      "Max: 24.0\n",
      "Count: 1076\n",
      "Avg: 10.449814126394052\n",
      "Std: 6.046004699626401\n",
      "Done\n",
      "\n",
      "\n"
     ]
    },
    {
     "data": {
      "image/png": "[encoded data removed]",
      "text/plain": [
       "<Figure size 432x288 with 1 Axes>"
      ]
     },
     "metadata": {
      "needs_background": "light"
     },
     "output_type": "display_data"
    },
    {
     "data": {
      "text/plain": [
       "True"
      ]
     },
     "execution_count": 7,
     "metadata": {},
     "output_type": "execute_result"
    }
   ],
   "source": [
    "# Train for more score\n",
    "\n",
    "\n",
    "agent = Agent(state_size=state_size, action_size=action_size, seed=0, params = params ) \n",
    "\n",
    "TrainAgent(env, agent, 15, 'banana_15_report')"
   ]
  },
  {
   "cell_type": "markdown",
   "id": "tough-horizontal",
   "metadata": {},
   "source": [
    "### Model test"
   ]
  },
  {
   "cell_type": "code",
   "execution_count": 8,
   "id": "thick-timer",
   "metadata": {
    "scrolled": true
   },
   "outputs": [
    {
     "name": "stdout",
     "output_type": "stream",
     "text": [
      "[2021-03-08 00:50:07.626295] Episode 10\tAverage Score: 13.20\n",
      "[2021-03-08 00:50:37.583103] Episode 10\tAverage Score: 14.10\n",
      "[2021-03-08 00:51:07.641554] Episode 10\tAverage Score: 15.60\n",
      "[2021-03-08 00:51:37.778129] Episode 10\tAverage Score: 16.50\n",
      "[2021-03-08 00:52:07.833578] Episode 10\tAverage Score: 17.60\n",
      "[2021-03-08 00:52:37.826925] Episode 10\tAverage Score: 17.50\n",
      "[2021-03-08 00:53:07.804986] Episode 10\tAverage Score: 17.70\n",
      "[2021-03-08 00:53:37.732611] Episode 10\tAverage Score: 16.80\n",
      "[2021-03-08 00:54:07.671744] Episode 10\tAverage Score: 15.80\n",
      "[2021-03-08 00:54:37.646802] Episode 10\tAverage Score: 15.30\n",
      "[2021-03-08 00:55:07.654911] Episode 10\tAverage Score: 15.10\n",
      "[2021-03-08 00:55:37.605207] Episode 10\tAverage Score: 13.30\n",
      "[2021-03-08 00:56:07.556782] Episode 10\tAverage Score: 12.40\n",
      "[2021-03-08 01:34:35.410789] Episode 17\tAverage Score: 17.00\n",
      "Min: 3.0\n",
      "Max: 25.0\n",
      "Count: 99\n",
      "Avg: 14.98989898989899\n",
      "Std: 4.330989924621241\n",
      "Done\n",
      "\n",
      "\n"
     ]
    },
    {
     "data": {
      "image/png": "[encoded data removed]",
      "text/plain": [
       "<Figure size 432x288 with 1 Axes>"
      ]
     },
     "metadata": {
      "needs_background": "light"
     },
     "output_type": "display_data"
    }
   ],
   "source": [
    "def runTestOnce(env, agent):\n",
    "    score = 0\n",
    "    env_info = env.reset(train_mode=False)[brain_name]\n",
    "    state = env_info.vector_observations[0]\n",
    "    done = False\n",
    "    while not done:\n",
    "        action = agent.act(state, 0 )\n",
    "        env_info = env.step(action)[brain_name]\n",
    "        next_state = env_info.vector_observations[0]\n",
    "        reward = env_info.rewards[0]\n",
    "        done = env_info.local_done[0]\n",
    "        agent.step(state, action, reward, next_state, done)\n",
    "        score += reward\n",
    "        state = next_state\n",
    "    return score\n",
    "\n",
    "agent.Load('model.pt')\n",
    "scores = Scores(13, 10, False)\n",
    "for i_episode in range(1, 100):\n",
    "    score = runTestOnce(env, agent)\n",
    "    scores.AddScore(score)\n",
    "\n",
    "scores.FlushLog('test', True)"
   ]
  },
  {
   "cell_type": "markdown",
   "id": "legendary-venue",
   "metadata": {},
   "source": [
    "### Comments\n",
    "My implementation of DQN may be not bad. But when expect score is 13, I  got some worse score case (under 5). \n",
    "\n",
    "I increase score to 15. It task some more epoch, and average score is increase. but still got very low score. I think it caused only state and action based learning. If agent get more information like optional project, I get more good result."
   ]
  },
  {
   "cell_type": "markdown",
   "id": "seven-sport",
   "metadata": {},
   "source": [
    "## Ideas for future work\n",
    "\n",
    "- Implement DQN extensions likes Dueling networks, Prioritized Experience Relay, Raindow DQN or etc.\n",
    "- Change NN Model\n",
    "  - More hidden layers\n",
    "  - More nodes in hidden layers.\n",
    "- Learing from pixel information (Optional project)"
   ]
  }
 ],
 "metadata": {
  "kernelspec": {
   "display_name": "Python 3",
   "language": "python",
   "name": "python3"
  },
  "language_info": {
   "codemirror_mode": {
    "name": "ipython",
    "version": 3
   },
   "file_extension": ".py",
   "mimetype": "text/x-python",
   "name": "python",
   "nbconvert_exporter": "python",
   "pygments_lexer": "ipython3",
   "version": "3.6.12"
  }
 },
 "nbformat": 4,
 "nbformat_minor": 5
}
